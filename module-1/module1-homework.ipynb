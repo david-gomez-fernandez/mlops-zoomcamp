{
 "cells": [
  {
   "cell_type": "markdown",
   "id": "84c7baed",
   "metadata": {},
   "source": [
    "# Libraries installation (via \"pip\")"
   ]
  },
  {
   "cell_type": "code",
   "execution_count": 1,
   "id": "b2bd82d7",
   "metadata": {},
   "outputs": [
    {
     "name": "stdout",
     "output_type": "stream",
     "text": [
      "Defaulting to user installation because normal site-packages is not writeable\n",
      "Requirement already satisfied: pandas in /home/nimda/.local/lib/python3.10/site-packages (from -r ../requirements.txt (line 1)) (1.4.2)\n",
      "Requirement already satisfied: scikit-learn in /home/nimda/.local/lib/python3.10/site-packages (from -r ../requirements.txt (line 2)) (1.1.1)\n",
      "Requirement already satisfied: seaborn in /home/nimda/.local/lib/python3.10/site-packages (from -r ../requirements.txt (line 3)) (0.11.2)\n",
      "Requirement already satisfied: matplotlib in /home/nimda/.local/lib/python3.10/site-packages (from -r ../requirements.txt (line 4)) (3.5.2)\n",
      "Requirement already satisfied: pyarrow in /home/nimda/.local/lib/python3.10/site-packages (from -r ../requirements.txt (line 5)) (8.0.0)\n",
      "Requirement already satisfied: python-dateutil>=2.8.1 in /home/nimda/.local/lib/python3.10/site-packages (from pandas->-r ../requirements.txt (line 1)) (2.8.2)\n",
      "Requirement already satisfied: pytz>=2020.1 in /usr/lib/python3/dist-packages (from pandas->-r ../requirements.txt (line 1)) (2022.1)\n",
      "Requirement already satisfied: numpy>=1.21.0 in /home/nimda/.local/lib/python3.10/site-packages (from pandas->-r ../requirements.txt (line 1)) (1.22.4)\n",
      "Requirement already satisfied: joblib>=1.0.0 in /home/nimda/.local/lib/python3.10/site-packages (from scikit-learn->-r ../requirements.txt (line 2)) (1.1.0)\n",
      "Requirement already satisfied: scipy>=1.3.2 in /home/nimda/.local/lib/python3.10/site-packages (from scikit-learn->-r ../requirements.txt (line 2)) (1.8.1)\n",
      "Requirement already satisfied: threadpoolctl>=2.0.0 in /home/nimda/.local/lib/python3.10/site-packages (from scikit-learn->-r ../requirements.txt (line 2)) (3.1.0)\n",
      "Requirement already satisfied: packaging>=20.0 in /home/nimda/.local/lib/python3.10/site-packages (from matplotlib->-r ../requirements.txt (line 4)) (21.3)\n",
      "Requirement already satisfied: kiwisolver>=1.0.1 in /home/nimda/.local/lib/python3.10/site-packages (from matplotlib->-r ../requirements.txt (line 4)) (1.4.2)\n",
      "Requirement already satisfied: fonttools>=4.22.0 in /home/nimda/.local/lib/python3.10/site-packages (from matplotlib->-r ../requirements.txt (line 4)) (4.33.3)\n",
      "Requirement already satisfied: cycler>=0.10 in /home/nimda/.local/lib/python3.10/site-packages (from matplotlib->-r ../requirements.txt (line 4)) (0.11.0)\n",
      "Requirement already satisfied: pyparsing>=2.2.1 in /usr/lib/python3/dist-packages (from matplotlib->-r ../requirements.txt (line 4)) (2.4.7)\n",
      "Requirement already satisfied: pillow>=6.2.0 in /home/nimda/.local/lib/python3.10/site-packages (from matplotlib->-r ../requirements.txt (line 4)) (9.1.1)\n",
      "Requirement already satisfied: six>=1.5 in /usr/lib/python3/dist-packages (from python-dateutil>=2.8.1->pandas->-r ../requirements.txt (line 1)) (1.16.0)\n",
      "Note: you may need to restart the kernel to use updated packages.\n"
     ]
    }
   ],
   "source": [
    "%pip install -r ../requirements.txt"
   ]
  },
  {
   "cell_type": "markdown",
   "id": "02e84a09",
   "metadata": {},
   "source": [
    "# Imports Section"
   ]
  },
  {
   "cell_type": "code",
   "execution_count": 2,
   "id": "41062d8a",
   "metadata": {},
   "outputs": [],
   "source": [
    "import pandas as pd\n",
    "import numpy as np\n",
    "\n",
    "# --------------------------\n",
    "\n",
    "from sklearn.feature_extraction import DictVectorizer\n",
    "from sklearn.linear_model import LinearRegression\n",
    "from sklearn.metrics import mean_squared_error"
   ]
  },
  {
   "cell_type": "markdown",
   "id": "6b11b8ad",
   "metadata": {},
   "source": [
    "# Training Dataframe preparation"
   ]
  },
  {
   "cell_type": "code",
   "execution_count": 3,
   "id": "8e013caf",
   "metadata": {},
   "outputs": [
    {
     "data": {
      "text/html": [
       "<div>\n",
       "<style scoped>\n",
       "    .dataframe tbody tr th:only-of-type {\n",
       "        vertical-align: middle;\n",
       "    }\n",
       "\n",
       "    .dataframe tbody tr th {\n",
       "        vertical-align: top;\n",
       "    }\n",
       "\n",
       "    .dataframe thead th {\n",
       "        text-align: right;\n",
       "    }\n",
       "</style>\n",
       "<table border=\"1\" class=\"dataframe\">\n",
       "  <thead>\n",
       "    <tr style=\"text-align: right;\">\n",
       "      <th></th>\n",
       "      <th>dispatching_base_num</th>\n",
       "      <th>pickup_datetime</th>\n",
       "      <th>dropOff_datetime</th>\n",
       "      <th>PUlocationID</th>\n",
       "      <th>DOlocationID</th>\n",
       "      <th>SR_Flag</th>\n",
       "      <th>Affiliated_base_number</th>\n",
       "      <th>duration</th>\n",
       "    </tr>\n",
       "  </thead>\n",
       "  <tbody>\n",
       "    <tr>\n",
       "      <th>0</th>\n",
       "      <td>B00009</td>\n",
       "      <td>2021-01-01 00:27:00</td>\n",
       "      <td>2021-01-01 00:44:00</td>\n",
       "      <td>NaN</td>\n",
       "      <td>NaN</td>\n",
       "      <td>None</td>\n",
       "      <td>B00009</td>\n",
       "      <td>17.000000</td>\n",
       "    </tr>\n",
       "    <tr>\n",
       "      <th>1</th>\n",
       "      <td>B00009</td>\n",
       "      <td>2021-01-01 00:50:00</td>\n",
       "      <td>2021-01-01 01:07:00</td>\n",
       "      <td>NaN</td>\n",
       "      <td>NaN</td>\n",
       "      <td>None</td>\n",
       "      <td>B00009</td>\n",
       "      <td>17.000000</td>\n",
       "    </tr>\n",
       "    <tr>\n",
       "      <th>2</th>\n",
       "      <td>B00013</td>\n",
       "      <td>2021-01-01 00:01:00</td>\n",
       "      <td>2021-01-01 01:51:00</td>\n",
       "      <td>NaN</td>\n",
       "      <td>NaN</td>\n",
       "      <td>None</td>\n",
       "      <td>B00013</td>\n",
       "      <td>110.000000</td>\n",
       "    </tr>\n",
       "    <tr>\n",
       "      <th>3</th>\n",
       "      <td>B00037</td>\n",
       "      <td>2021-01-01 00:13:09</td>\n",
       "      <td>2021-01-01 00:21:26</td>\n",
       "      <td>NaN</td>\n",
       "      <td>72.0</td>\n",
       "      <td>None</td>\n",
       "      <td>B00037</td>\n",
       "      <td>8.283333</td>\n",
       "    </tr>\n",
       "    <tr>\n",
       "      <th>4</th>\n",
       "      <td>B00037</td>\n",
       "      <td>2021-01-01 00:38:31</td>\n",
       "      <td>2021-01-01 00:53:44</td>\n",
       "      <td>NaN</td>\n",
       "      <td>61.0</td>\n",
       "      <td>None</td>\n",
       "      <td>B00037</td>\n",
       "      <td>15.216667</td>\n",
       "    </tr>\n",
       "    <tr>\n",
       "      <th>5</th>\n",
       "      <td>B00037</td>\n",
       "      <td>2021-01-01 00:59:02</td>\n",
       "      <td>2021-01-01 01:08:05</td>\n",
       "      <td>NaN</td>\n",
       "      <td>71.0</td>\n",
       "      <td>None</td>\n",
       "      <td>B00037</td>\n",
       "      <td>9.050000</td>\n",
       "    </tr>\n",
       "    <tr>\n",
       "      <th>6</th>\n",
       "      <td>B00037</td>\n",
       "      <td>2021-01-01 00:18:12</td>\n",
       "      <td>2021-01-01 00:30:04</td>\n",
       "      <td>NaN</td>\n",
       "      <td>91.0</td>\n",
       "      <td>None</td>\n",
       "      <td>B00037</td>\n",
       "      <td>11.866667</td>\n",
       "    </tr>\n",
       "    <tr>\n",
       "      <th>7</th>\n",
       "      <td>B00037</td>\n",
       "      <td>2021-01-01 00:36:15</td>\n",
       "      <td>2021-01-01 00:45:08</td>\n",
       "      <td>NaN</td>\n",
       "      <td>39.0</td>\n",
       "      <td>None</td>\n",
       "      <td>B00037</td>\n",
       "      <td>8.883333</td>\n",
       "    </tr>\n",
       "    <tr>\n",
       "      <th>8</th>\n",
       "      <td>B00037</td>\n",
       "      <td>2021-01-01 00:55:04</td>\n",
       "      <td>2021-01-01 01:13:02</td>\n",
       "      <td>NaN</td>\n",
       "      <td>37.0</td>\n",
       "      <td>None</td>\n",
       "      <td>B00037</td>\n",
       "      <td>17.966667</td>\n",
       "    </tr>\n",
       "    <tr>\n",
       "      <th>9</th>\n",
       "      <td>B00037</td>\n",
       "      <td>2021-01-01 00:48:40</td>\n",
       "      <td>2021-01-01 01:12:02</td>\n",
       "      <td>NaN</td>\n",
       "      <td>39.0</td>\n",
       "      <td>None</td>\n",
       "      <td>B00037</td>\n",
       "      <td>23.366667</td>\n",
       "    </tr>\n",
       "  </tbody>\n",
       "</table>\n",
       "</div>"
      ],
      "text/plain": [
       "  dispatching_base_num     pickup_datetime    dropOff_datetime  PUlocationID  \\\n",
       "0               B00009 2021-01-01 00:27:00 2021-01-01 00:44:00           NaN   \n",
       "1               B00009 2021-01-01 00:50:00 2021-01-01 01:07:00           NaN   \n",
       "2               B00013 2021-01-01 00:01:00 2021-01-01 01:51:00           NaN   \n",
       "3               B00037 2021-01-01 00:13:09 2021-01-01 00:21:26           NaN   \n",
       "4               B00037 2021-01-01 00:38:31 2021-01-01 00:53:44           NaN   \n",
       "5               B00037 2021-01-01 00:59:02 2021-01-01 01:08:05           NaN   \n",
       "6               B00037 2021-01-01 00:18:12 2021-01-01 00:30:04           NaN   \n",
       "7               B00037 2021-01-01 00:36:15 2021-01-01 00:45:08           NaN   \n",
       "8               B00037 2021-01-01 00:55:04 2021-01-01 01:13:02           NaN   \n",
       "9               B00037 2021-01-01 00:48:40 2021-01-01 01:12:02           NaN   \n",
       "\n",
       "   DOlocationID SR_Flag Affiliated_base_number    duration  \n",
       "0           NaN    None                 B00009   17.000000  \n",
       "1           NaN    None                 B00009   17.000000  \n",
       "2           NaN    None                 B00013  110.000000  \n",
       "3          72.0    None                 B00037    8.283333  \n",
       "4          61.0    None                 B00037   15.216667  \n",
       "5          71.0    None                 B00037    9.050000  \n",
       "6          91.0    None                 B00037   11.866667  \n",
       "7          39.0    None                 B00037    8.883333  \n",
       "8          37.0    None                 B00037   17.966667  \n",
       "9          39.0    None                 B00037   23.366667  "
      ]
     },
     "execution_count": 3,
     "metadata": {},
     "output_type": "execute_result"
    }
   ],
   "source": [
    "df_train = pd.read_parquet('../data/fhv_tripdata_2021-01.parquet')\n",
    "\n",
    "# Calculation of the duration\n",
    "df_train['duration'] = df_train.dropOff_datetime - df_train.pickup_datetime\n",
    "df_train.duration = df_train.duration.apply(lambda td: td.total_seconds() / 60)\n",
    "df_train.head(10)"
   ]
  },
  {
   "cell_type": "code",
   "execution_count": 4,
   "id": "86020ec6",
   "metadata": {},
   "outputs": [
    {
     "name": "stdout",
     "output_type": "stream",
     "text": [
      "(Original dataset shape: Rows (1154112) x Columns (8)\n"
     ]
    }
   ],
   "source": [
    "# Number of records \n",
    "original_dataset_size = df_train.shape\n",
    "print (f'(Original dataset shape: Rows ({original_dataset_size[0]}) x Columns ({original_dataset_size[1]})')"
   ]
  },
  {
   "cell_type": "code",
   "execution_count": 5,
   "id": "c72e9cc5",
   "metadata": {},
   "outputs": [
    {
     "name": "stdout",
     "output_type": "stream",
     "text": [
      "Original dataset avg duration (min) = 19.167224093791006\n"
     ]
    }
   ],
   "source": [
    "# Average trip duration\n",
    "avg_duration = df_train.duration.mean()\n",
    "print (f'Original dataset avg duration (min) = {avg_duration}')"
   ]
  },
  {
   "cell_type": "code",
   "execution_count": 6,
   "id": "87cdea25",
   "metadata": {},
   "outputs": [
    {
     "name": "stdout",
     "output_type": "stream",
     "text": [
      "Records dropped (<1 min or >60 min) ) 44286\n",
      "Original 1109826 - missing 927008 (0.8352732770722617%) - Ready-to-go 171670 (0.15468190509142873%)\n"
     ]
    }
   ],
   "source": [
    "# Filter one hour trips\n",
    "df_train = df_train[(df_train.duration >= 1) & (df_train.duration <= 60)]\n",
    "print (f'Records dropped (<1 min or >60 min) ) {original_dataset_size[0] - df_train.shape[0]}')\n",
    "\n",
    "# Missing values calculation\n",
    "df_train['PUlocationID'] = df_train['PUlocationID'].replace(np.NaN, -1.0)\n",
    "df_train['DOlocationID'] = df_train['DOlocationID'].replace(np.NaN, -1.0)\n",
    "\n",
    "# df_missing = df[(df['PUlocationID'] == -1.0) | (df['DOlocationID'] == -1.0)]\n",
    "df_missing = df_train[df_train['PUlocationID'] == -1.0]\n",
    "df_filter = df_train[(df_train['PUlocationID'] != -1.0) & (df_train['DOlocationID'] != -1.0)]\n",
    "\n",
    "fraction = len(df_missing) / len(df_train)\n",
    "\n",
    "print (f'Original {df_train.shape[0]} - missing {df_missing.shape[0]} ({len(df_missing) / len(df_train)}%) - Ready-to-go {df_filter.shape[0]} ({len(df_filter) / len (df_train)}%)')"
   ]
  },
  {
   "cell_type": "code",
   "execution_count": 7,
   "id": "bc4d197c",
   "metadata": {},
   "outputs": [],
   "source": [
    "# One-hot encoding\n",
    "categorical = ['PUlocationID', 'DOlocationID']\n",
    "# numerical = ['trip_distance']\n",
    "\n",
    "df_train[categorical] = df_train[categorical].astype(str)\n",
    "train_dicts = df_train[categorical].to_dict(orient='records')\n",
    "\n",
    "dv = DictVectorizer()\n",
    "X_train = dv.fit_transform(train_dicts)  \n",
    "\n",
    "target = 'duration'\n",
    "y_train = df_train[target].values"
   ]
  },
  {
   "cell_type": "code",
   "execution_count": 22,
   "id": "de804559",
   "metadata": {},
   "outputs": [
    {
     "name": "stdout",
     "output_type": "stream",
     "text": [
      "MSE (train) = 10.528519428392489\n"
     ]
    }
   ],
   "source": [
    "# Linear regression model (default params)\n",
    "lr = LinearRegression()\n",
    "lr.fit(X_train, y_train)\n",
    "\n",
    "y_pred = lr.predict(X_train)\n",
    "\n",
    "mse_train = mean_squared_error(y_train, y_pred, squared=False)\n",
    "print(f'MSE (train) = {mse_train}')"
   ]
  },
  {
   "cell_type": "markdown",
   "id": "f0a52ced",
   "metadata": {},
   "source": [
    "# Validation dataset"
   ]
  },
  {
   "cell_type": "code",
   "execution_count": 14,
   "id": "116ff0cc",
   "metadata": {},
   "outputs": [],
   "source": [
    "# Validation dataset (load)\n",
    "df_val = pd.read_parquet('../data/fhv_tripdata_2021-02.parquet')"
   ]
  },
  {
   "cell_type": "code",
   "execution_count": 15,
   "id": "b45ee617",
   "metadata": {},
   "outputs": [
    {
     "data": {
      "text/html": [
       "<div>\n",
       "<style scoped>\n",
       "    .dataframe tbody tr th:only-of-type {\n",
       "        vertical-align: middle;\n",
       "    }\n",
       "\n",
       "    .dataframe tbody tr th {\n",
       "        vertical-align: top;\n",
       "    }\n",
       "\n",
       "    .dataframe thead th {\n",
       "        text-align: right;\n",
       "    }\n",
       "</style>\n",
       "<table border=\"1\" class=\"dataframe\">\n",
       "  <thead>\n",
       "    <tr style=\"text-align: right;\">\n",
       "      <th></th>\n",
       "      <th>dispatching_base_num</th>\n",
       "      <th>pickup_datetime</th>\n",
       "      <th>dropOff_datetime</th>\n",
       "      <th>PUlocationID</th>\n",
       "      <th>DOlocationID</th>\n",
       "      <th>SR_Flag</th>\n",
       "      <th>Affiliated_base_number</th>\n",
       "    </tr>\n",
       "  </thead>\n",
       "  <tbody>\n",
       "    <tr>\n",
       "      <th>0</th>\n",
       "      <td>B00013</td>\n",
       "      <td>2021-02-01 00:01:00</td>\n",
       "      <td>2021-02-01 01:33:00</td>\n",
       "      <td>NaN</td>\n",
       "      <td>NaN</td>\n",
       "      <td>None</td>\n",
       "      <td>B00014</td>\n",
       "    </tr>\n",
       "    <tr>\n",
       "      <th>1</th>\n",
       "      <td>B00021</td>\n",
       "      <td>2021-02-01 00:55:40</td>\n",
       "      <td>2021-02-01 01:06:20</td>\n",
       "      <td>173.0</td>\n",
       "      <td>82.0</td>\n",
       "      <td>None</td>\n",
       "      <td>B00021</td>\n",
       "    </tr>\n",
       "    <tr>\n",
       "      <th>2</th>\n",
       "      <td>B00021</td>\n",
       "      <td>2021-02-01 00:14:03</td>\n",
       "      <td>2021-02-01 00:28:37</td>\n",
       "      <td>173.0</td>\n",
       "      <td>56.0</td>\n",
       "      <td>None</td>\n",
       "      <td>B00021</td>\n",
       "    </tr>\n",
       "    <tr>\n",
       "      <th>3</th>\n",
       "      <td>B00021</td>\n",
       "      <td>2021-02-01 00:27:48</td>\n",
       "      <td>2021-02-01 00:35:45</td>\n",
       "      <td>82.0</td>\n",
       "      <td>129.0</td>\n",
       "      <td>None</td>\n",
       "      <td>B00021</td>\n",
       "    </tr>\n",
       "    <tr>\n",
       "      <th>4</th>\n",
       "      <td>B00037</td>\n",
       "      <td>2021-02-01 00:12:50</td>\n",
       "      <td>2021-02-01 00:26:38</td>\n",
       "      <td>NaN</td>\n",
       "      <td>225.0</td>\n",
       "      <td>None</td>\n",
       "      <td>B00037</td>\n",
       "    </tr>\n",
       "  </tbody>\n",
       "</table>\n",
       "</div>"
      ],
      "text/plain": [
       "  dispatching_base_num     pickup_datetime    dropOff_datetime  PUlocationID  \\\n",
       "0               B00013 2021-02-01 00:01:00 2021-02-01 01:33:00           NaN   \n",
       "1      B00021          2021-02-01 00:55:40 2021-02-01 01:06:20         173.0   \n",
       "2      B00021          2021-02-01 00:14:03 2021-02-01 00:28:37         173.0   \n",
       "3      B00021          2021-02-01 00:27:48 2021-02-01 00:35:45          82.0   \n",
       "4               B00037 2021-02-01 00:12:50 2021-02-01 00:26:38           NaN   \n",
       "\n",
       "   DOlocationID SR_Flag Affiliated_base_number  \n",
       "0           NaN    None                 B00014  \n",
       "1          82.0    None        B00021           \n",
       "2          56.0    None        B00021           \n",
       "3         129.0    None        B00021           \n",
       "4         225.0    None                 B00037  "
      ]
     },
     "execution_count": 15,
     "metadata": {},
     "output_type": "execute_result"
    }
   ],
   "source": [
    "df_val.head()"
   ]
  },
  {
   "cell_type": "code",
   "execution_count": 24,
   "id": "c43aaca6",
   "metadata": {},
   "outputs": [],
   "source": [
    "# Calculation of the duration\n",
    "df_val['duration'] = df_val.dropOff_datetime - df_val.pickup_datetime\n",
    "df_val.duration = df_val.duration.apply(lambda td: td.total_seconds() / 60)\n",
    "\n",
    "# Filter one hour trips\n",
    "df_val = df_val[(df_val.duration >= 1) & (df_val.duration <= 60)]\n",
    "\n",
    "# Missing values calculation\n",
    "# df_val['PUlocationID'] = df_val['PUlocationID'].replace(np.NaN, -1.0)\n",
    "# df_val['DOlocationID'] = df_val['DOlocationID'].replace(np.NaN, -1,0)\n",
    "df_val = df_val[(df_val['PUlocationID'] != np.NaN) & (df_val['DOlocationID'] != np.NaN)]\n",
    "\n",
    "\n",
    "df_val[categorical] = df_val[categorical].astype(str)\n",
    "val_dicts = df_val[categorical].to_dict(orient='records')"
   ]
  },
  {
   "cell_type": "code",
   "execution_count": 25,
   "id": "bcd7646a",
   "metadata": {},
   "outputs": [],
   "source": [
    "# dv = DictVectorizer()\n",
    "val_dicts = df_val[categorical].to_dict(orient='records')\n",
    "X_val = dv.transform(val_dicts)\n",
    "\n",
    "y_val = df_val[target].values"
   ]
  },
  {
   "cell_type": "code",
   "execution_count": 26,
   "id": "25b07a6d",
   "metadata": {},
   "outputs": [
    {
     "name": "stdout",
     "output_type": "stream",
     "text": [
      "MSE (val) = 11.237154387710653\n"
     ]
    }
   ],
   "source": [
    "lr = LinearRegression()\n",
    "lr.fit(X_train, y_train)\n",
    "\n",
    "y_pred = lr.predict(X_val)\n",
    "\n",
    "mse_val = mean_squared_error(y_val, y_pred, squared=False)\n",
    "print(f'MSE (val) = {mse_val}')\n"
   ]
  }
 ],
 "metadata": {
  "interpreter": {
   "hash": "69e718b1e0e6ee75b1bccf34df176a4217eabafbc53aa5f792d93c9a0d027472"
  },
  "kernelspec": {
   "display_name": "myenv",
   "language": "python",
   "name": "python3"
  },
  "language_info": {
   "codemirror_mode": {
    "name": "ipython",
    "version": 3
   },
   "file_extension": ".py",
   "mimetype": "text/x-python",
   "name": "python",
   "nbconvert_exporter": "python",
   "pygments_lexer": "ipython3",
   "version": "3.10.4"
  }
 },
 "nbformat": 4,
 "nbformat_minor": 5
}
